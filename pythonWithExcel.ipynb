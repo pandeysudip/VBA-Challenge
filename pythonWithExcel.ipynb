{
 "cells": [
  {
   "cell_type": "code",
   "execution_count": null,
   "id": "b760f9e0",
   "metadata": {},
   "outputs": [],
   "source": [
    "import xlwings as xw\n",
    "import pandas as pd\n",
    "import numpy as np"
   ]
  },
  {
   "cell_type": "code",
   "execution_count": null,
   "id": "80216f72",
   "metadata": {},
   "outputs": [],
   "source": [
    "path=\"/Users/sudippandey/All_files/0.Boot_Camp/Week2/HW2/VBA-Challenge/alphabetical_testing.xlsx\" \n",
    "wb=xw.Book(path)"
   ]
  },
  {
   "cell_type": "code",
   "execution_count": null,
   "id": "1b6fbaf3",
   "metadata": {},
   "outputs": [],
   "source": [
    "for sheet in wb.sheets:\n",
    "    sheet.range(\"I1\").value=[\"Ticker\", \"Yearly Change\", \"Percent Change\", \"Total Stock Volume\"]\n",
    "    sheet.range(\"O1\").value=[\"Ticker\", \"value\"]\n",
    "    sheet.range(\"N2\").options(transpose=True).value=[\"Greatest % Increase\", \"Greatest % Decrease\", \"Greatest Total Volume\"]\n",
    "    sheet[\"A:P\"].autofit()\n",
    "    \n",
    "    trow=2\n",
    "    lastRow = sheet.range('A1').end('down').row\n",
    "    vTotal=0\n",
    "    for i in range(2,lastRow):\n",
    "        if sheet.range(\"A\"+str(i+1)).value!=sheet.range(\"A\"+str(i)).value:\n",
    "            tName=sheet.range(\"A\"+str(i)).value\n",
    "            #vTotal=vTotal+sheet.range(\"G\"+str(i)).value\n",
    "            sheet.range(\"I\"+str(trow)).Value=tName\n",
    "            #sheet.range(\"L\"+str(trow)).value=vTotal\n",
    "            \n",
    "            trow =trow+1\n",
    "            vTotal=0\n",
    "            \n",
    "        \n",
    "        "
   ]
  },
  {
   "cell_type": "code",
   "execution_count": null,
   "id": "f8cde0b5",
   "metadata": {},
   "outputs": [],
   "source": []
  }
 ],
 "metadata": {
  "kernelspec": {
   "display_name": "Python 3 (ipykernel)",
   "language": "python",
   "name": "python3"
  },
  "language_info": {
   "codemirror_mode": {
    "name": "ipython",
    "version": 3
   },
   "file_extension": ".py",
   "mimetype": "text/x-python",
   "name": "python",
   "nbconvert_exporter": "python",
   "pygments_lexer": "ipython3",
   "version": "3.8.10"
  }
 },
 "nbformat": 4,
 "nbformat_minor": 5
}
