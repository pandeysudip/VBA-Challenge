{
 "cells": [
  {
   "cell_type": "code",
   "execution_count": null,
   "id": "3fe14299",
   "metadata": {},
   "outputs": [],
   "source": [
    "import xlwings as xw\n",
    "import pandas as pd\n",
    "import numpy as np"
   ]
  },
  {
   "cell_type": "code",
   "execution_count": null,
   "id": "2df5709b",
   "metadata": {},
   "outputs": [],
   "source": [
    "path=\"/Users/sudippandey/All_files/0.Boot_Camp/Week2/HW2/alphabetical_testing.xlsx\" \n",
    "wb=xw.Book(path)"
   ]
  },
  {
   "cell_type": "code",
   "execution_count": null,
   "id": "caffc628",
   "metadata": {},
   "outputs": [],
   "source": [
    "for sheet in wb.sheets:\n",
    "    sheet.range(\"I1\").value=[\"Ticker\", \"Yearly Change\", \"Percent Change\", \"Total Stock Volume\"]\n",
    "    sheet.range(\"O1\").value=[\"Ticker\", \"value\"]\n",
    "    sheet.range(\"N2\").options(transpose=True).value=[\"Greatest % Increase\", \"Greatest % Decrease\", \"Greatest Total Volume\"]\n",
    "    sheet[\"A:P\"].autofit()\n",
    "    \n",
    "    trow=2\n",
    "    lastRow = sheet.range('A1').end('down').row\n",
    "    vTotal=0\n",
    "    for i in range(2,lastRow):\n",
    "        if sheet.range(\"A\"+str(i+1)).value!=sheet.range(\"A\"+str(i)).value:\n",
    "            \n",
    "            tName=sheet.range(\"A\"+str(i)).value\n",
    "            \n",
    "            vTotal=vTotal+sheet.range(\"G\"+str(i)).value\n",
    "            \n",
    "            \n",
    "            \n",
    "            ePrice=sheet.range(\"C\"+str(i)).value\n",
    "            \n",
    "            yChange=ePrice-oPrice\n",
    "            \n",
    "            percent=(yChange/ePrice)*100\n",
    "            \n",
    "            sheet.range(\"I\"+str(trow)).Value=tName\n",
    "            sheet.range(\"J\"+str(trow)).Value=yChange\n",
    "            sheet.range(\"K\"+str(trow)).Value=percent\n",
    "            sheet.range(\"L\"+str(trow)).Value=vTotal\n",
    "            \n",
    "            \n",
    "            trow =trow+1\n",
    "            vTotal=0\n",
    "            \n",
    "        else:\n",
    "            oPrice=sheet.range(\"F\"+str(i)).value\n",
    "            vTotal=vTotal+sheet.range(\"G\"+str(i)).value\n",
    "        \n",
    "        "
   ]
  },
  {
   "cell_type": "code",
   "execution_count": null,
   "id": "8827e3bc",
   "metadata": {},
   "outputs": [],
   "source": []
  }
 ],
 "metadata": {
  "kernelspec": {
   "display_name": "Python 3 (ipykernel)",
   "language": "python",
   "name": "python3"
  },
  "language_info": {
   "codemirror_mode": {
    "name": "ipython",
    "version": 3
   },
   "file_extension": ".py",
   "mimetype": "text/x-python",
   "name": "python",
   "nbconvert_exporter": "python",
   "pygments_lexer": "ipython3",
   "version": "3.8.10"
  }
 },
 "nbformat": 4,
 "nbformat_minor": 5
}
