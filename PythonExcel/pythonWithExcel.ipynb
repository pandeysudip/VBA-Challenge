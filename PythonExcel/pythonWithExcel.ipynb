{
 "cells": [
  {
   "cell_type": "code",
   "execution_count": 3,
   "source": [
    "import xlwings as xw\n",
    "import pandas as pd\n",
    "import numpy as np\n",
    "import matplotlib.pyplot as plt\n",
    "import os"
   ],
   "outputs": [],
   "metadata": {}
  },
  {
   "cell_type": "code",
   "execution_count": 4,
   "source": [
    "path= os.path.join(\"..\", \"Resources\", \"alphabetical_testing.xlsx\" )\n",
    "#displaying data in excel new workbook\n",
    "wb=xw.Book(path)\n",
    "wb"
   ],
   "outputs": [
    {
     "output_type": "execute_result",
     "data": {
      "text/plain": [
       "<Book [alphabetical_testing.xlsx]>"
      ]
     },
     "metadata": {},
     "execution_count": 4
    }
   ],
   "metadata": {}
  },
  {
   "cell_type": "code",
   "execution_count": 6,
   "source": [
    "sheet=wb.sheets[0]\n",
    "sheet.range((1,8)).value=\"Hello\""
   ],
   "outputs": [],
   "metadata": {}
  },
  {
   "cell_type": "code",
   "execution_count": 4,
   "source": [
    "for sheet in wb.sheets:\n",
    "    #creating new columns\n",
    "    sheet.range(\"I1\").value=[\"Ticker\", \"Yearly Change\", \"Percent Change\", \"Total Stock Volume\"]\n",
    "    sheet.range(\"O1\").value=[\"Ticker\", \"value\"]\n",
    "    sheet.range(\"N2\").options(transpose=True).value=[\"Greatest % Increase\", \"Greatest % Decrease\", \"Greatest Total Volume\"]\n",
    "    sheet[\"A:P\"].autofit()\n",
    "    \n",
    "    trow=2\n",
    "    oprice=''\n",
    "    #lastrow of the dataset\n",
    "    lastRow = sheet.range('A1').end('down').row\n",
    "    vTotal=0\n",
    "    for i in range(2,lastRow):\n",
    "        if sheet.range((i+1,1)).value!=sheet.range((i,1)).value:\n",
    "            #Ticker column\n",
    "            tName=sheet.range((i,1)).value\n",
    "            \n",
    "            #Total Stock Volume column\n",
    "            vTotal=vTotal+sheet.range((i,7)).value\n",
    "            \n",
    "            #getting closing price at the end of year\n",
    "            ePrice=sheet.range((i,6)).value\n",
    "            \n",
    "            #Yearly change\n",
    "            yChange=ePrice-oPrice\n",
    "            \n",
    "            #Change in percent\n",
    "            percent=(yChange/ePrice)*100\n",
    "            \n",
    "            #adding value to new column\n",
    "            sheet.range(\"I\"+str(trow)).Value=tName\n",
    "            sheet.range(\"J\"+str(trow)).Value=yChange\n",
    "            sheet.range(\"K\"+str(trow)).Value=percent\n",
    "            sheet.range(\"L\"+str(trow)).Value=vTotal\n",
    "            \n",
    "            \n",
    "            trow =trow+1\n",
    "            vTotal=0\n",
    "            \n",
    "        else:\n",
    "            vTotal=vTotal+sheet.range((i,7)).value\n",
    "            \n",
    "            #getting opening price at the begning of year\n",
    "            if sheet.range((i, 2)).value == \"????0101\":\n",
    "\n",
    "                 oPrice = sheet.range((i, 3)).value\n",
    "        \n",
    "        "
   ],
   "outputs": [],
   "metadata": {}
  },
  {
   "cell_type": "code",
   "execution_count": null,
   "source": [],
   "outputs": [],
   "metadata": {}
  }
 ],
 "metadata": {
  "kernelspec": {
   "name": "python3",
   "display_name": "Python 3.8.10 64-bit ('base': conda)"
  },
  "language_info": {
   "codemirror_mode": {
    "name": "ipython",
    "version": 3
   },
   "file_extension": ".py",
   "mimetype": "text/x-python",
   "name": "python",
   "nbconvert_exporter": "python",
   "pygments_lexer": "ipython3",
   "version": "3.8.10"
  },
  "interpreter": {
   "hash": "817077e1a2d020cbb8b998b22ffbd878007d2286ff42cfcca3891d7d3f8316c3"
  }
 },
 "nbformat": 4,
 "nbformat_minor": 5
}